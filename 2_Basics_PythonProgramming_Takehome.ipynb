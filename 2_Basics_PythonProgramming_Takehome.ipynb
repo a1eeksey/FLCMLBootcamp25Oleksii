{
  "nbformat": 4,
  "nbformat_minor": 0,
  "metadata": {
    "colab": {
      "provenance": [],
      "include_colab_link": true
    },
    "kernelspec": {
      "name": "python3",
      "display_name": "Python 3"
    },
    "language_info": {
      "name": "python"
    }
  },
  "cells": [
    {
      "cell_type": "markdown",
      "metadata": {
        "id": "view-in-github",
        "colab_type": "text"
      },
      "source": [
        "<a href=\"https://colab.research.google.com/github/a1eeksey/FLCMLBootcamp25Oleksii/blob/main/2_Basics_PythonProgramming_Takehome.ipynb\" target=\"_parent\"><img src=\"https://colab.research.google.com/assets/colab-badge.svg\" alt=\"Open In Colab\"/></a>"
      ]
    },
    {
      "cell_type": "markdown",
      "source": [
        "# Personal Finance 101 with Python\n",
        "\n",
        "- Investing is crucial for wealth growth, financial security, and achieving long-term financial goals.\n",
        "- One of the biggest reasons to invest is the power of compounding, which allows your money to grow exponentially over time."
      ],
      "metadata": {
        "id": "BGhlVvcyZGWp"
      }
    },
    {
      "cell_type": "markdown",
      "source": [
        "### Understanding the Compounding Effect\n",
        "\n",
        "$$ A = P * \\left( 1 + \\frac{r}{n} \\right) ^{n*t}$$\n",
        "\n",
        "Where,\n",
        "\n",
        "- A  = Final amount\n",
        "- P  = Principal (initial investment)\n",
        "- r  = Annual interest rate (as a decimal)\n",
        "- n  = Times interest is compounded per year\n",
        "- t  = Time in years\n"
      ],
      "metadata": {
        "id": "zyYa0RR2L_8n"
      }
    },
    {
      "cell_type": "code",
      "execution_count": 2,
      "metadata": {
        "id": "XrEjSeR5UQVl",
        "outputId": "4f29a50d-1bcb-4b58-9d95-ac1909c23705",
        "colab": {
          "base_uri": "https://localhost:8080/"
        }
      },
      "outputs": [
        {
          "output_type": "stream",
          "name": "stdout",
          "text": [
            "Compound Interest Calculator Results:\n",
            "Principal Amount: $1000.00\n",
            "Annual Interest Rate: 6.00%\n",
            "Compounding Frequency: 1 times per year\n",
            "Number of Years: 10\n",
            "Total Amount: $1790.85\n",
            "Total Interest Earned: $790.85\n"
          ]
        }
      ],
      "source": [
        "#@title Compound Interest Calculator\n",
        "\n",
        "#@markdown Enter the principal amount (P in $):\n",
        "principal = 1000 #@param {type:\"number\"}\n",
        "\n",
        "#@markdown Enter the annual interest rate as a percentage (r):\n",
        "interest_rate = 6 #@param {type:\"number\"}\n",
        "\n",
        "#@markdown Enter the number of times interest is compounded per year (n):\n",
        "compounding_frequency = 1 #@param {type:\"number\"}\n",
        "\n",
        "#@markdown Enter the number of years (t):\n",
        "years = 10 #@param {type:\"number\"}\n",
        "\n",
        "\n",
        "# Calculate compound interest\n",
        "# 1. Convert percentage into decimal\n",
        "interest_rate_decimal = interest_rate / 100\n",
        "\n",
        "\n",
        "# 2. Calculate the final amount (A)\n",
        "final_amount = principal * (1 + interest_rate_decimal) ** years\n",
        "\n",
        "\n",
        "# 3. Calculate the total interest earned\n",
        "total_interest = final_amount - principal\n",
        "\n",
        "\n",
        "# Display the results\n",
        "print(\"Compound Interest Calculator Results:\")\n",
        "print(f\"Principal Amount: ${principal:.2f}\")\n",
        "print(f\"Annual Interest Rate: {interest_rate:.2f}%\")\n",
        "print(f\"Compounding Frequency: {compounding_frequency} times per year\")\n",
        "print(f\"Number of Years: {years}\")\n",
        "print(f\"Total Amount: ${final_amount:.2f}\")\n",
        "print(f\"Total Interest Earned: ${total_interest:.2f}\")\n"
      ]
    },
    {
      "cell_type": "markdown",
      "source": [
        "### Effect of starting principal (P)\n",
        "\n",
        "Write a function to calculate total amount and total interest earned for starting principal (P in $): 10, 50, 100, 500 and 1000. Assume r=5%, n=1 and t=5.\n",
        "\n",
        "Hint: Iterate over a list data structure containing 'P' values using a compound interest calculator function"
      ],
      "metadata": {
        "id": "ScJlnZfEbTUH"
      }
    },
    {
      "cell_type": "code",
      "source": [
        "# Calculate the effect of starting principal (more 'P')\n",
        "def compound_interest(P, r, n, t):\n",
        "    A = P * (1 + r/n) ** (n*t)\n",
        "    interest_earned = A - P\n",
        "    return A, interest_earned\n",
        "\n",
        "# List of different principal amounts\n",
        "principal_values = [10, 50, 100, 500, 1000]\n",
        "r = 5 / 100  # Convert percentage to decimal\n",
        "n = 1\n",
        "t = 5\n",
        "\n",
        "print(\"Effect of Starting Principal on Compound Interest:\")\n",
        "for P in principal_values:\n",
        "    A, interest = compound_interest(P, r, n, t)\n",
        "    print(f\"Principal: ${P}, Total Amount: ${A:.2f}, Interest Earned: ${interest:.2f}\")\n"
      ],
      "metadata": {
        "id": "MICZ2cnDbrZg",
        "outputId": "e05b3574-504d-4adc-8f7f-be50bd7c0297",
        "colab": {
          "base_uri": "https://localhost:8080/"
        }
      },
      "execution_count": 3,
      "outputs": [
        {
          "output_type": "stream",
          "name": "stdout",
          "text": [
            "Effect of Starting Principal on Compound Interest:\n",
            "Principal: $10, Total Amount: $12.76, Interest Earned: $2.76\n",
            "Principal: $50, Total Amount: $63.81, Interest Earned: $13.81\n",
            "Principal: $100, Total Amount: $127.63, Interest Earned: $27.63\n",
            "Principal: $500, Total Amount: $638.14, Interest Earned: $138.14\n",
            "Principal: $1000, Total Amount: $1276.28, Interest Earned: $276.28\n"
          ]
        }
      ]
    },
    {
      "cell_type": "markdown",
      "source": [
        "#### Write a simple conclusion on what the effect of starting principal (more 'P') is on a compounding interest investment?\n",
        "\n",
        "The higher the starting principal (P), the more significant the total amount and interest earned due to compounding. Even small initial investments grow over time, but a larger initial amount leads to a greater final sum."
      ],
      "metadata": {
        "id": "BIcD3dEecSpq"
      }
    },
    {
      "cell_type": "code",
      "source": [],
      "metadata": {
        "id": "gCpivos6chhj"
      },
      "execution_count": null,
      "outputs": []
    },
    {
      "cell_type": "markdown",
      "source": [
        "### Effect of starting early (more years of investing = more 't')\n",
        "\n",
        "Reuse the compounding interest calculator function above and determine the effect of more years of investing 't': 2yrs, 5yrs, 10yrs, 20yrs, 30yrs. Assume P=\\$100, r=5% and n=1."
      ],
      "metadata": {
        "id": "3Zi_t5Ftcsw1"
      }
    },
    {
      "cell_type": "code",
      "source": [
        "# Calculate the effect of starting early (more 't')\n",
        "\n",
        "# List of different investment durations\n",
        "years_list = [2, 5, 10, 20, 30]\n",
        "P = 100  # Fixed principal\n",
        "r = 5 / 100\n",
        "n = 1\n",
        "\n",
        "print(\"Effect of Starting Early on Compound Interest:\")\n",
        "for t in years_list:\n",
        "    A, interest = compound_interest(P, r, n, t)\n",
        "    print(f\"Years: {t}, Total Amount: ${A:.2f}, Interest Earned: ${interest:.2f}\")\n"
      ],
      "metadata": {
        "id": "a5jHCG7NdcBf",
        "outputId": "c1b5276a-c474-4b60-b2a1-bd31f41fd58b",
        "colab": {
          "base_uri": "https://localhost:8080/"
        }
      },
      "execution_count": 4,
      "outputs": [
        {
          "output_type": "stream",
          "name": "stdout",
          "text": [
            "Effect of Starting Early on Compound Interest:\n",
            "Years: 2, Total Amount: $110.25, Interest Earned: $10.25\n",
            "Years: 5, Total Amount: $127.63, Interest Earned: $27.63\n",
            "Years: 10, Total Amount: $162.89, Interest Earned: $62.89\n",
            "Years: 20, Total Amount: $265.33, Interest Earned: $165.33\n",
            "Years: 30, Total Amount: $432.19, Interest Earned: $332.19\n"
          ]
        }
      ]
    },
    {
      "cell_type": "markdown",
      "source": [
        "#### Write a simple conclusion on what the effect of starting early (more 't') is on a compounding interest investment?\n",
        "\n",
        "The longer you invest, the greater the impact of compounding. Even a small principal grows significantly over decades, emphasizing the importance of early investing."
      ],
      "metadata": {
        "id": "dkDFHmiNdosi"
      }
    },
    {
      "cell_type": "markdown",
      "source": [
        "### Effect of better rate of return (more 'r')\n",
        "\n",
        "Reuse the compounding interest calculator function above and determine the effect of better rate of return 'r': 2%, 5%, 8% and 10%. Assume P=$100, n=1 and t=5."
      ],
      "metadata": {
        "id": "b4HolM8adwzl"
      }
    },
    {
      "cell_type": "code",
      "source": [
        "# Calculate the effect of better rate of return (more 'r')\n",
        "\n",
        "# List of different interest rates\n",
        "rate_list = [2, 5, 8, 10]  # in percentage\n",
        "P = 100\n",
        "n = 1\n",
        "t = 5\n",
        "\n",
        "print(\"Effect of Better Rate of Return on Compound Interest:\")\n",
        "for r in rate_list:\n",
        "    A, interest = compound_interest(P, r/100, n, t)\n",
        "    print(f\"Rate: {r}%, Total Amount: ${A:.2f}, Interest Earned: ${interest:.2f}\")\n"
      ],
      "metadata": {
        "id": "pbcjQ24Kew56",
        "outputId": "d171bad6-6643-4d14-cb15-6b9a3d47d2df",
        "colab": {
          "base_uri": "https://localhost:8080/"
        }
      },
      "execution_count": 5,
      "outputs": [
        {
          "output_type": "stream",
          "name": "stdout",
          "text": [
            "Effect of Better Rate of Return on Compound Interest:\n",
            "Rate: 2%, Total Amount: $110.41, Interest Earned: $10.41\n",
            "Rate: 5%, Total Amount: $127.63, Interest Earned: $27.63\n",
            "Rate: 8%, Total Amount: $146.93, Interest Earned: $46.93\n",
            "Rate: 10%, Total Amount: $161.05, Interest Earned: $61.05\n"
          ]
        }
      ]
    },
    {
      "cell_type": "markdown",
      "source": [
        "#### Write a simple conclusion on what the effect of better rate of return (more 'r') is on a compounding interest investment?\n",
        "\n",
        "\n",
        "A higher rate of return significantly boosts the final amount, showing the importance of choosing investments with strong returns."
      ],
      "metadata": {
        "id": "q5ihxgcKez4g"
      }
    },
    {
      "cell_type": "markdown",
      "source": [
        "### What happens to a compounding interest investment if you also do recurring investment (adding fixed \\$ amount in a fixed time frequency into the principal 'P')"
      ],
      "metadata": {
        "id": "8RPUEsNYe7nw"
      }
    },
    {
      "cell_type": "code",
      "source": [
        "# Write a new python function that will also take a fixed recurring deposit 'rd' every month to calculate compounding interest\n",
        "\n",
        "def compound_interest_with_recurring(P, r, n, t, rd):\n",
        "    A = P * (1 + r/n) ** (n*t)\n",
        "\n",
        "    # Calculate the effect of recurring deposits\n",
        "    for i in range(1, t*12 + 1):  # Monthly deposits\n",
        "        A += rd * (1 + r/n) ** (n*(t - i/12))\n",
        "\n",
        "    interest_earned = A - (P + rd * t * 12)\n",
        "    return A, interest_earned\n",
        "\n",
        "# List of different recurring deposits\n",
        "recurring_deposits = [0, 1, 5, 10, 50, 100]\n",
        "P = 100\n",
        "r = 5 / 100\n",
        "n = 12\n",
        "t = 5\n",
        "\n",
        "print(\"Effect of Recurring Deposits on Compound Interest:\")\n",
        "for rd in recurring_deposits:\n",
        "    A, interest = compound_interest_with_recurring(P, r, n, t, rd)\n",
        "    print(f\"Recurring Deposit: ${rd}/month, Total Amount: ${A:.2f}, Interest Earned: ${interest:.2f}\")\n",
        "\n"
      ],
      "metadata": {
        "id": "PXVG53KdffHD",
        "outputId": "a38db913-041b-4e82-f106-8a5e38b09758",
        "colab": {
          "base_uri": "https://localhost:8080/"
        }
      },
      "execution_count": 6,
      "outputs": [
        {
          "output_type": "stream",
          "name": "stdout",
          "text": [
            "Effect of Recurring Deposits on Compound Interest:\n",
            "Recurring Deposit: $0/month, Total Amount: $128.34, Interest Earned: $28.34\n",
            "Recurring Deposit: $1/month, Total Amount: $196.34, Interest Earned: $36.34\n",
            "Recurring Deposit: $5/month, Total Amount: $468.37, Interest Earned: $68.37\n",
            "Recurring Deposit: $10/month, Total Amount: $808.40, Interest Earned: $108.40\n",
            "Recurring Deposit: $50/month, Total Amount: $3528.64, Interest Earned: $428.64\n",
            "Recurring Deposit: $100/month, Total Amount: $6928.94, Interest Earned: $828.94\n"
          ]
        }
      ]
    },
    {
      "cell_type": "markdown",
      "source": [
        "#### What is the effect of disciplined investing using recurring deposits?\n",
        "\n",
        "Use the new compounding interest calculator with recurring investment to calculate the effect of disciplined investing. Assume P=$100, r=5%, n=12 (monthly compounding), t=5.\n",
        "\n",
        "Calculate for different 'rd' (in $): 0, 1, 5, 10, 50, 100"
      ],
      "metadata": {
        "id": "WoKmXBp3gaeN"
      }
    },
    {
      "cell_type": "code",
      "source": [
        "# Write code to calculate the final_amount (A) for recurring deposits into monthly compounding investment\n",
        "def compound_interest_with_recurring(P, r, n, t, rd):\n",
        "    r_decimal = r / 100  # Convert percentage to decimal\n",
        "    final_amount = P * (1 + r_decimal / n) ** (n * t)\n",
        "\n",
        "    # Adding recurring deposits (rd) using the future value of annuity formula\n",
        "    for i in range(1, t * n + 1):\n",
        "        final_amount += rd * (1 + r_decimal / n) ** (n * t - i)\n",
        "\n",
        "    total_investment = P + (rd * n * t)\n",
        "    total_interest = final_amount - total_investment\n",
        "\n",
        "    return final_amount, total_interest\n",
        "\n",
        "# Given values\n",
        "P = 100  # Initial principal\n",
        "r = 5  # Annual interest rate\n",
        "n = 12  # Monthly compounding\n",
        "t = 5  # Investment duration in years\n",
        "rd_values = [0, 1, 5, 10, 50, 100]  # Recurring deposit amounts\n",
        "\n",
        "# Calculate and display results\n",
        "print(\"Effect of Disciplined Investing Using Recurring Deposits\")\n",
        "print(\"-------------------------------------------------------\")\n",
        "for rd in rd_values:\n",
        "    final_amount, total_interest = compound_interest_with_recurring(P, r, n, t, rd)\n",
        "    print(f\"Recurring Deposit: ${rd}/month | Total Amount: ${final_amount:.2f} | Total Interest Earned: ${total_interest:.2f}\")\n",
        "\n",
        "\n"
      ],
      "metadata": {
        "id": "gz8NLxgzhHlU",
        "outputId": "2d45d659-307f-4677-ed34-b0a88617142a",
        "colab": {
          "base_uri": "https://localhost:8080/"
        }
      },
      "execution_count": 7,
      "outputs": [
        {
          "output_type": "stream",
          "name": "stdout",
          "text": [
            "Effect of Disciplined Investing Using Recurring Deposits\n",
            "-------------------------------------------------------\n",
            "Recurring Deposit: $0/month | Total Amount: $128.34 | Total Interest Earned: $28.34\n",
            "Recurring Deposit: $1/month | Total Amount: $196.34 | Total Interest Earned: $36.34\n",
            "Recurring Deposit: $5/month | Total Amount: $468.37 | Total Interest Earned: $68.37\n",
            "Recurring Deposit: $10/month | Total Amount: $808.40 | Total Interest Earned: $108.40\n",
            "Recurring Deposit: $50/month | Total Amount: $3528.64 | Total Interest Earned: $428.64\n",
            "Recurring Deposit: $100/month | Total Amount: $6928.94 | Total Interest Earned: $828.94\n"
          ]
        }
      ]
    },
    {
      "cell_type": "markdown",
      "source": [
        "#### Write a simple conclusion on what is the effect of disciplined investing using recurring deposits?\n",
        "\n",
        "Higher recurring deposits significantly increase the final amount.\n",
        "Even small monthly contributions (e.g., $10/month) lead to substantial growth due to compounding.\n",
        "The earlier you start and the more consistently you invest, the greater your wealth grows."
      ],
      "metadata": {
        "id": "HzaDkeEmhRTd"
      }
    },
    {
      "cell_type": "markdown",
      "source": [
        "### What problems/decisions that you face in life can be solved using basic Python programming? Share atleast two ideas.\n",
        "\n",
        "Personal Finance Tracking.\n",
        "Stock Market Analysis\n"
      ],
      "metadata": {
        "id": "V1SICqGdi3bu"
      }
    },
    {
      "cell_type": "markdown",
      "source": [
        "# Final Retrospection:\n",
        "### What challenges did you face while programming with Python?\n",
        "Understanding the formula for compound interest with recurring deposits.\n",
        "\n",
        "\n",
        "### How did you overcome those challenges?\n",
        "Broke down the problem into smaller components.\n",
        "\n",
        "\n",
        "### Mention other resources you used to solve this take-home assignment\n",
        "Python documentation.\n",
        "\n",
        "\n",
        "### Did you use any tools (like ChatGPT) to solve the issues? What are the challenges and opportunities?\n",
        "I used ChatGPT for optimizing the function for better readability.\n",
        "\n",
        "\n",
        "### After this exercise, are you feeling excited to learn more?\n",
        "For sure, looking forward to learn more!\n",
        "\n",
        "\n",
        "\n",
        "NOTE: Save the file with your code and text answers before committing it to your new GitHub public repository. Send a link to your file on Github to the TA."
      ],
      "metadata": {
        "id": "gnnYEjdqhh7f"
      }
    }
  ]
}